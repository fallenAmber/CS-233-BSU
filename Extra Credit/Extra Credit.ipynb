{
 "cells": [
  {
   "cell_type": "code",
   "execution_count": 1,
   "metadata": {},
   "outputs": [],
   "source": [
    "import pandas as pd\n",
    "import matplotlib.pyplot as plt\n",
    "import seaborn as sns"
   ]
  },
  {
   "cell_type": "code",
   "execution_count": 2,
   "metadata": {},
   "outputs": [],
   "source": [
    "data = pd.read_csv('population.csv')"
   ]
  },
  {
   "cell_type": "code",
   "execution_count": 3,
   "metadata": {},
   "outputs": [
    {
     "data": {
      "text/html": [
       "<div>\n",
       "<style scoped>\n",
       "    .dataframe tbody tr th:only-of-type {\n",
       "        vertical-align: middle;\n",
       "    }\n",
       "\n",
       "    .dataframe tbody tr th {\n",
       "        vertical-align: top;\n",
       "    }\n",
       "\n",
       "    .dataframe thead th {\n",
       "        text-align: right;\n",
       "    }\n",
       "</style>\n",
       "<table border=\"1\" class=\"dataframe\">\n",
       "  <thead>\n",
       "    <tr style=\"text-align: right;\">\n",
       "      <th></th>\n",
       "      <th>Year</th>\n",
       "      <th>District.Code</th>\n",
       "      <th>District.Name</th>\n",
       "      <th>Neighborhood.Code</th>\n",
       "      <th>Neighborhood.Name</th>\n",
       "      <th>Gender</th>\n",
       "      <th>Age</th>\n",
       "      <th>Number</th>\n",
       "    </tr>\n",
       "  </thead>\n",
       "  <tbody>\n",
       "    <tr>\n",
       "      <td>0</td>\n",
       "      <td>2017</td>\n",
       "      <td>1</td>\n",
       "      <td>Ciutat Vella</td>\n",
       "      <td>1</td>\n",
       "      <td>el Raval</td>\n",
       "      <td>Male</td>\n",
       "      <td>0-4</td>\n",
       "      <td>224</td>\n",
       "    </tr>\n",
       "    <tr>\n",
       "      <td>1</td>\n",
       "      <td>2017</td>\n",
       "      <td>1</td>\n",
       "      <td>Ciutat Vella</td>\n",
       "      <td>2</td>\n",
       "      <td>el Barri Gòtic</td>\n",
       "      <td>Male</td>\n",
       "      <td>0-4</td>\n",
       "      <td>50</td>\n",
       "    </tr>\n",
       "    <tr>\n",
       "      <td>2</td>\n",
       "      <td>2017</td>\n",
       "      <td>1</td>\n",
       "      <td>Ciutat Vella</td>\n",
       "      <td>3</td>\n",
       "      <td>la Barceloneta</td>\n",
       "      <td>Male</td>\n",
       "      <td>0-4</td>\n",
       "      <td>43</td>\n",
       "    </tr>\n",
       "    <tr>\n",
       "      <td>3</td>\n",
       "      <td>2017</td>\n",
       "      <td>1</td>\n",
       "      <td>Ciutat Vella</td>\n",
       "      <td>4</td>\n",
       "      <td>Sant Pere, Santa Caterina i la Ribera</td>\n",
       "      <td>Male</td>\n",
       "      <td>0-4</td>\n",
       "      <td>95</td>\n",
       "    </tr>\n",
       "    <tr>\n",
       "      <td>4</td>\n",
       "      <td>2017</td>\n",
       "      <td>2</td>\n",
       "      <td>Eixample</td>\n",
       "      <td>5</td>\n",
       "      <td>el Fort Pienc</td>\n",
       "      <td>Male</td>\n",
       "      <td>0-4</td>\n",
       "      <td>124</td>\n",
       "    </tr>\n",
       "  </tbody>\n",
       "</table>\n",
       "</div>"
      ],
      "text/plain": [
       "   Year  District.Code District.Name  Neighborhood.Code  \\\n",
       "0  2017              1  Ciutat Vella                  1   \n",
       "1  2017              1  Ciutat Vella                  2   \n",
       "2  2017              1  Ciutat Vella                  3   \n",
       "3  2017              1  Ciutat Vella                  4   \n",
       "4  2017              2      Eixample                  5   \n",
       "\n",
       "                       Neighborhood.Name Gender  Age  Number  \n",
       "0                               el Raval   Male  0-4     224  \n",
       "1                         el Barri Gòtic   Male  0-4      50  \n",
       "2                         la Barceloneta   Male  0-4      43  \n",
       "3  Sant Pere, Santa Caterina i la Ribera   Male  0-4      95  \n",
       "4                          el Fort Pienc   Male  0-4     124  "
      ]
     },
     "execution_count": 3,
     "metadata": {},
     "output_type": "execute_result"
    }
   ],
   "source": [
    "data.head()"
   ]
  },
  {
   "cell_type": "code",
   "execution_count": 4,
   "metadata": {},
   "outputs": [],
   "source": [
    "data.rename(columns = {'District.Code':'District Code', 'District.Name':'District Name', 'Neighborhood.Code':'Neighborhood Code','Neighborhood.Name':'Neighborhood Name' }, inplace = True)"
   ]
  },
  {
   "cell_type": "code",
   "execution_count": 5,
   "metadata": {},
   "outputs": [
    {
     "data": {
      "text/html": [
       "<div>\n",
       "<style scoped>\n",
       "    .dataframe tbody tr th:only-of-type {\n",
       "        vertical-align: middle;\n",
       "    }\n",
       "\n",
       "    .dataframe tbody tr th {\n",
       "        vertical-align: top;\n",
       "    }\n",
       "\n",
       "    .dataframe thead th {\n",
       "        text-align: right;\n",
       "    }\n",
       "</style>\n",
       "<table border=\"1\" class=\"dataframe\">\n",
       "  <thead>\n",
       "    <tr style=\"text-align: right;\">\n",
       "      <th></th>\n",
       "      <th>Year</th>\n",
       "      <th>District Code</th>\n",
       "      <th>District Name</th>\n",
       "      <th>Neighborhood Code</th>\n",
       "      <th>Neighborhood Name</th>\n",
       "      <th>Gender</th>\n",
       "      <th>Age</th>\n",
       "      <th>Number</th>\n",
       "    </tr>\n",
       "  </thead>\n",
       "  <tbody>\n",
       "    <tr>\n",
       "      <td>0</td>\n",
       "      <td>2017</td>\n",
       "      <td>1</td>\n",
       "      <td>Ciutat Vella</td>\n",
       "      <td>1</td>\n",
       "      <td>el Raval</td>\n",
       "      <td>Male</td>\n",
       "      <td>0-4</td>\n",
       "      <td>224</td>\n",
       "    </tr>\n",
       "    <tr>\n",
       "      <td>1</td>\n",
       "      <td>2017</td>\n",
       "      <td>1</td>\n",
       "      <td>Ciutat Vella</td>\n",
       "      <td>2</td>\n",
       "      <td>el Barri Gòtic</td>\n",
       "      <td>Male</td>\n",
       "      <td>0-4</td>\n",
       "      <td>50</td>\n",
       "    </tr>\n",
       "    <tr>\n",
       "      <td>2</td>\n",
       "      <td>2017</td>\n",
       "      <td>1</td>\n",
       "      <td>Ciutat Vella</td>\n",
       "      <td>3</td>\n",
       "      <td>la Barceloneta</td>\n",
       "      <td>Male</td>\n",
       "      <td>0-4</td>\n",
       "      <td>43</td>\n",
       "    </tr>\n",
       "    <tr>\n",
       "      <td>3</td>\n",
       "      <td>2017</td>\n",
       "      <td>1</td>\n",
       "      <td>Ciutat Vella</td>\n",
       "      <td>4</td>\n",
       "      <td>Sant Pere, Santa Caterina i la Ribera</td>\n",
       "      <td>Male</td>\n",
       "      <td>0-4</td>\n",
       "      <td>95</td>\n",
       "    </tr>\n",
       "    <tr>\n",
       "      <td>4</td>\n",
       "      <td>2017</td>\n",
       "      <td>2</td>\n",
       "      <td>Eixample</td>\n",
       "      <td>5</td>\n",
       "      <td>el Fort Pienc</td>\n",
       "      <td>Male</td>\n",
       "      <td>0-4</td>\n",
       "      <td>124</td>\n",
       "    </tr>\n",
       "    <tr>\n",
       "      <td>...</td>\n",
       "      <td>...</td>\n",
       "      <td>...</td>\n",
       "      <td>...</td>\n",
       "      <td>...</td>\n",
       "      <td>...</td>\n",
       "      <td>...</td>\n",
       "      <td>...</td>\n",
       "      <td>...</td>\n",
       "    </tr>\n",
       "    <tr>\n",
       "      <td>70075</td>\n",
       "      <td>2013</td>\n",
       "      <td>10</td>\n",
       "      <td>Sant Martí</td>\n",
       "      <td>69</td>\n",
       "      <td>Diagonal Mar i el Front Marítim del Poblenou</td>\n",
       "      <td>Female</td>\n",
       "      <td>&gt;=95</td>\n",
       "      <td>21</td>\n",
       "    </tr>\n",
       "    <tr>\n",
       "      <td>70076</td>\n",
       "      <td>2013</td>\n",
       "      <td>10</td>\n",
       "      <td>Sant Martí</td>\n",
       "      <td>70</td>\n",
       "      <td>el Besòs i el Maresme</td>\n",
       "      <td>Female</td>\n",
       "      <td>&gt;=95</td>\n",
       "      <td>25</td>\n",
       "    </tr>\n",
       "    <tr>\n",
       "      <td>70077</td>\n",
       "      <td>2013</td>\n",
       "      <td>10</td>\n",
       "      <td>Sant Martí</td>\n",
       "      <td>71</td>\n",
       "      <td>Provençals del Poblenou</td>\n",
       "      <td>Female</td>\n",
       "      <td>&gt;=95</td>\n",
       "      <td>31</td>\n",
       "    </tr>\n",
       "    <tr>\n",
       "      <td>70078</td>\n",
       "      <td>2013</td>\n",
       "      <td>10</td>\n",
       "      <td>Sant Martí</td>\n",
       "      <td>72</td>\n",
       "      <td>Sant Martí de Provençals</td>\n",
       "      <td>Female</td>\n",
       "      <td>&gt;=95</td>\n",
       "      <td>38</td>\n",
       "    </tr>\n",
       "    <tr>\n",
       "      <td>70079</td>\n",
       "      <td>2013</td>\n",
       "      <td>10</td>\n",
       "      <td>Sant Martí</td>\n",
       "      <td>73</td>\n",
       "      <td>la Verneda i la Pau</td>\n",
       "      <td>Female</td>\n",
       "      <td>&gt;=95</td>\n",
       "      <td>47</td>\n",
       "    </tr>\n",
       "  </tbody>\n",
       "</table>\n",
       "<p>70080 rows × 8 columns</p>\n",
       "</div>"
      ],
      "text/plain": [
       "       Year  District Code District Name  Neighborhood Code  \\\n",
       "0      2017              1  Ciutat Vella                  1   \n",
       "1      2017              1  Ciutat Vella                  2   \n",
       "2      2017              1  Ciutat Vella                  3   \n",
       "3      2017              1  Ciutat Vella                  4   \n",
       "4      2017              2      Eixample                  5   \n",
       "...     ...            ...           ...                ...   \n",
       "70075  2013             10    Sant Martí                 69   \n",
       "70076  2013             10    Sant Martí                 70   \n",
       "70077  2013             10    Sant Martí                 71   \n",
       "70078  2013             10    Sant Martí                 72   \n",
       "70079  2013             10    Sant Martí                 73   \n",
       "\n",
       "                                  Neighborhood Name  Gender   Age  Number  \n",
       "0                                          el Raval    Male   0-4     224  \n",
       "1                                    el Barri Gòtic    Male   0-4      50  \n",
       "2                                    la Barceloneta    Male   0-4      43  \n",
       "3             Sant Pere, Santa Caterina i la Ribera    Male   0-4      95  \n",
       "4                                     el Fort Pienc    Male   0-4     124  \n",
       "...                                             ...     ...   ...     ...  \n",
       "70075  Diagonal Mar i el Front Marítim del Poblenou  Female  >=95      21  \n",
       "70076                         el Besòs i el Maresme  Female  >=95      25  \n",
       "70077                       Provençals del Poblenou  Female  >=95      31  \n",
       "70078                      Sant Martí de Provençals  Female  >=95      38  \n",
       "70079                           la Verneda i la Pau  Female  >=95      47  \n",
       "\n",
       "[70080 rows x 8 columns]"
      ]
     },
     "execution_count": 5,
     "metadata": {},
     "output_type": "execute_result"
    }
   ],
   "source": [
    "data"
   ]
  },
  {
   "cell_type": "code",
   "execution_count": 6,
   "metadata": {},
   "outputs": [
    {
     "data": {
      "text/plain": [
       "(70080, 8)"
      ]
     },
     "execution_count": 6,
     "metadata": {},
     "output_type": "execute_result"
    }
   ],
   "source": [
    "data.shape"
   ]
  },
  {
   "cell_type": "code",
   "execution_count": 7,
   "metadata": {},
   "outputs": [
    {
     "data": {
      "text/plain": [
       "['Year',\n",
       " 'District Code',\n",
       " 'District Name',\n",
       " 'Neighborhood Code',\n",
       " 'Neighborhood Name',\n",
       " 'Gender',\n",
       " 'Age',\n",
       " 'Number']"
      ]
     },
     "execution_count": 7,
     "metadata": {},
     "output_type": "execute_result"
    }
   ],
   "source": [
    "list(data.columns)"
   ]
  },
  {
   "cell_type": "code",
   "execution_count": 8,
   "metadata": {},
   "outputs": [
    {
     "data": {
      "text/plain": [
       "0"
      ]
     },
     "execution_count": 8,
     "metadata": {},
     "output_type": "execute_result"
    }
   ],
   "source": [
    "data.isnull().sum().sum()"
   ]
  },
  {
   "cell_type": "raw",
   "metadata": {},
   "source": [
    "There is no null vlaue in the dataset."
   ]
  },
  {
   "cell_type": "code",
   "execution_count": 9,
   "metadata": {},
   "outputs": [
    {
     "name": "stdout",
     "output_type": "stream",
     "text": [
      "<class 'pandas.core.frame.DataFrame'>\n",
      "RangeIndex: 70080 entries, 0 to 70079\n",
      "Data columns (total 8 columns):\n",
      "Year                 70080 non-null int64\n",
      "District Code        70080 non-null int64\n",
      "District Name        70080 non-null object\n",
      "Neighborhood Code    70080 non-null int64\n",
      "Neighborhood Name    70080 non-null object\n",
      "Gender               70080 non-null object\n",
      "Age                  70080 non-null object\n",
      "Number               70080 non-null int64\n",
      "dtypes: int64(4), object(4)\n",
      "memory usage: 4.3+ MB\n"
     ]
    }
   ],
   "source": [
    "data.info()"
   ]
  },
  {
   "cell_type": "code",
   "execution_count": 10,
   "metadata": {},
   "outputs": [
    {
     "data": {
      "text/plain": [
       "8048318"
      ]
     },
     "execution_count": 10,
     "metadata": {},
     "output_type": "execute_result"
    }
   ],
   "source": [
    "data['Number'].sum()"
   ]
  },
  {
   "cell_type": "raw",
   "metadata": {},
   "source": [
    "There have been 8048318 people in Barcelona from 2013 to 2017."
   ]
  },
  {
   "cell_type": "code",
   "execution_count": null,
   "metadata": {},
   "outputs": [],
   "source": []
  },
  {
   "cell_type": "code",
   "execution_count": 11,
   "metadata": {},
   "outputs": [
    {
     "data": {
      "image/png": "[encoded data removed]",
      "text/plain": [
       "<Figure size 1296x432 with 1 Axes>"
      ]
     },
     "metadata": {
      "needs_background": "light"
     },
     "output_type": "display_data"
    }
   ],
   "source": [
    "population_per_year = data.groupby('Year')['Number'].sum().reset_index()\n",
    "ax = sns.lineplot(x=\"Year\", y=\"Number\", data=population_per_year)\n",
    "ax.set_title('Population per year')\n",
    "ax.set_xlabel('Year')\n",
    "ax.set_ylabel('Population')\n",
    "fig=plt.gcf()\n",
    "fig.set_size_inches(18,6)"
   ]
  },
  {
   "cell_type": "markdown",
   "metadata": {},
   "source": [
    "To know well about a city, it is of pinnnacle of importance to have a look at the population. As the population increased () in Barcelona from 2014 onwards, it is safe to assume that has provided people with more opportunity, that is why more people moved there over time. There is also something happended back in 2013 that made a portion of the population leave this city."
   ]
  },
  {
   "cell_type": "code",
   "execution_count": 43,
   "metadata": {},
   "outputs": [
    {
     "data": {
      "image/png": "[encoded data removed]",
      "text/plain": [
       "<Figure size 1296x432 with 1 Axes>"
      ]
     },
     "metadata": {
      "needs_background": "light"
     },
     "output_type": "display_data"
    }
   ],
   "source": [
    "data.groupby(['Year', 'Gender'])['Number'].sum().unstack().plot.bar(title='Population per year and gender')\n",
    "fig=plt.gcf()\n",
    "fig.set_size_inches(18,6)"
   ]
  },
  {
   "cell_type": "markdown",
   "metadata": {},
   "source": [
    "Looking at the gender ratio is also an interesting way to analyze some important parameters such whether there is a level playing field for everyone. In terms of Barcelona, it seems that nearly equal number of people from both gender have been living there over time."
   ]
  },
  {
   "cell_type": "code",
   "execution_count": 44,
   "metadata": {},
   "outputs": [
    {
     "data": {
      "image/png": "[encoded data removed]",
      "text/plain": [
       "<Figure size 1440x504 with 1 Axes>"
      ]
     },
     "metadata": {
      "needs_background": "light"
     },
     "output_type": "display_data"
    }
   ],
   "source": [
    "f,ax = plt.subplots(1,1, figsize=(20,7))\n",
    "\n",
    "neighborhood_populations = data.groupby('Neighborhood Name')['Number'].sum().reset_index().sort_values('Number',ascending=True).iloc[0:10]\n",
    "sns.barplot(x='Number', y='Neighborhood Name', data=neighborhood_populations, ax=ax)\n",
    "ax.set_title('Population by Neighborhood (Top 10 less populated)')\n",
    "ax.set_xlabel('Population')\n",
    "ax.tick_params(labelsize=15)\n",
    "plt.show()"
   ]
  },
  {
   "cell_type": "markdown",
   "metadata": {},
   "source": [
    "Finding out the crowded places is another useful thing to know about a city. In general, more crowded places are commercial an recreational centers. Many people try to avoid crowded neighborhood when it comes to living."
   ]
  }
 ],
 "metadata": {
  "kernelspec": {
   "display_name": "Python 3",
   "language": "python",
   "name": "python3"
  },
  "language_info": {
   "codemirror_mode": {
    "name": "ipython",
    "version": 3
   },
   "file_extension": ".py",
   "mimetype": "text/x-python",
   "name": "python",
   "nbconvert_exporter": "python",
   "pygments_lexer": "ipython3",
   "version": "3.7.4"
  }
 },
 "nbformat": 4,
 "nbformat_minor": 2
}
