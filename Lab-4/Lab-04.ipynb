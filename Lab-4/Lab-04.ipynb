{
 "cells": [
  {
   "cell_type": "markdown",
   "metadata": {},
   "source": [
    "## Lab 4 - Probability and Information Theory"
   ]
  },
  {
   "cell_type": "code",
   "execution_count": 52,
   "metadata": {},
   "outputs": [],
   "source": [
    "# The essential module, but you may need others. \n",
    "import pandas as pd\n",
    "import math"
   ]
  },
  {
   "cell_type": "markdown",
   "metadata": {},
   "source": [
    "### Question 1: Load Data"
   ]
  },
  {
   "cell_type": "markdown",
   "metadata": {},
   "source": [
    "#### a. Upload the file *pnp-train.txt* into  a `DataFrame` called `data`.  \n",
    "* You can use the `read_csv` function to read in the data using a tab (`'\\t'`) as a delimiter. \n",
    "* You'll also need to use the `Latin-1` encoding to read the data in correctly. \n",
    "* Name your columns: `type` and `name`. "
   ]
  },
  {
   "cell_type": "code",
   "execution_count": 53,
   "metadata": {},
   "outputs": [
    {
     "data": {
      "text/html": [
       "<div>\n",
       "<style scoped>\n",
       "    .dataframe tbody tr th:only-of-type {\n",
       "        vertical-align: middle;\n",
       "    }\n",
       "\n",
       "    .dataframe tbody tr th {\n",
       "        vertical-align: top;\n",
       "    }\n",
       "\n",
       "    .dataframe thead th {\n",
       "        text-align: right;\n",
       "    }\n",
       "</style>\n",
       "<table border=\"1\" class=\"dataframe\">\n",
       "  <thead>\n",
       "    <tr style=\"text-align: right;\">\n",
       "      <th></th>\n",
       "      <th>type</th>\n",
       "      <th>name</th>\n",
       "    </tr>\n",
       "  </thead>\n",
       "  <tbody>\n",
       "    <tr>\n",
       "      <td>0</td>\n",
       "      <td>drug</td>\n",
       "      <td>Dilotab</td>\n",
       "    </tr>\n",
       "    <tr>\n",
       "      <td>1</td>\n",
       "      <td>movie</td>\n",
       "      <td>Beastie Boys: Live in Glasgow</td>\n",
       "    </tr>\n",
       "    <tr>\n",
       "      <td>2</td>\n",
       "      <td>person</td>\n",
       "      <td>Michelle Ford-Eriksson</td>\n",
       "    </tr>\n",
       "    <tr>\n",
       "      <td>3</td>\n",
       "      <td>place</td>\n",
       "      <td>Ramsbury</td>\n",
       "    </tr>\n",
       "    <tr>\n",
       "      <td>4</td>\n",
       "      <td>place</td>\n",
       "      <td>Market Bosworth</td>\n",
       "    </tr>\n",
       "    <tr>\n",
       "      <td>...</td>\n",
       "      <td>...</td>\n",
       "      <td>...</td>\n",
       "    </tr>\n",
       "    <tr>\n",
       "      <td>20996</td>\n",
       "      <td>movie</td>\n",
       "      <td>Old Pals</td>\n",
       "    </tr>\n",
       "    <tr>\n",
       "      <td>20997</td>\n",
       "      <td>place</td>\n",
       "      <td>Mailly-le-Château</td>\n",
       "    </tr>\n",
       "    <tr>\n",
       "      <td>20998</td>\n",
       "      <td>place</td>\n",
       "      <td>Sudbury</td>\n",
       "    </tr>\n",
       "    <tr>\n",
       "      <td>20999</td>\n",
       "      <td>place</td>\n",
       "      <td>West Wickham</td>\n",
       "    </tr>\n",
       "    <tr>\n",
       "      <td>21000</td>\n",
       "      <td>drug</td>\n",
       "      <td>Ocusporin</td>\n",
       "    </tr>\n",
       "  </tbody>\n",
       "</table>\n",
       "<p>21001 rows × 2 columns</p>\n",
       "</div>"
      ],
      "text/plain": [
       "         type                           name\n",
       "0        drug                        Dilotab\n",
       "1       movie  Beastie Boys: Live in Glasgow\n",
       "2      person         Michelle Ford-Eriksson\n",
       "3       place                       Ramsbury\n",
       "4       place                Market Bosworth\n",
       "...       ...                            ...\n",
       "20996   movie                       Old Pals\n",
       "20997   place              Mailly-le-Château\n",
       "20998   place                        Sudbury\n",
       "20999   place                   West Wickham\n",
       "21000    drug                      Ocusporin\n",
       "\n",
       "[21001 rows x 2 columns]"
      ]
     },
     "execution_count": 53,
     "metadata": {},
     "output_type": "execute_result"
    }
   ],
   "source": [
    "data = pd.read_csv('pnp-train.txt', delimiter=\"\\t\",  encoding='Latin-1', names=['type','name'])\n",
    "\n",
    "data"
   ]
  },
  {
   "cell_type": "markdown",
   "metadata": {},
   "source": [
    "#### b. Add a column called `first_word` to `data`. \n",
    "* To fill this column, split off the first word of the string in the `name` column and store it in lowercase letters. "
   ]
  },
  {
   "cell_type": "code",
   "execution_count": 54,
   "metadata": {},
   "outputs": [],
   "source": [
    "data['first_word'] = data['name'].map(lambda x: x.lower().split()[0])"
   ]
  },
  {
   "cell_type": "markdown",
   "metadata": {},
   "source": [
    "#### c. Display the first 10 rows of the table."
   ]
  },
  {
   "cell_type": "code",
   "execution_count": 55,
   "metadata": {},
   "outputs": [
    {
     "data": {
      "text/html": [
       "<div>\n",
       "<style scoped>\n",
       "    .dataframe tbody tr th:only-of-type {\n",
       "        vertical-align: middle;\n",
       "    }\n",
       "\n",
       "    .dataframe tbody tr th {\n",
       "        vertical-align: top;\n",
       "    }\n",
       "\n",
       "    .dataframe thead th {\n",
       "        text-align: right;\n",
       "    }\n",
       "</style>\n",
       "<table border=\"1\" class=\"dataframe\">\n",
       "  <thead>\n",
       "    <tr style=\"text-align: right;\">\n",
       "      <th></th>\n",
       "      <th>type</th>\n",
       "      <th>name</th>\n",
       "      <th>first_word</th>\n",
       "    </tr>\n",
       "  </thead>\n",
       "  <tbody>\n",
       "    <tr>\n",
       "      <td>0</td>\n",
       "      <td>drug</td>\n",
       "      <td>Dilotab</td>\n",
       "      <td>dilotab</td>\n",
       "    </tr>\n",
       "    <tr>\n",
       "      <td>1</td>\n",
       "      <td>movie</td>\n",
       "      <td>Beastie Boys: Live in Glasgow</td>\n",
       "      <td>beastie</td>\n",
       "    </tr>\n",
       "    <tr>\n",
       "      <td>2</td>\n",
       "      <td>person</td>\n",
       "      <td>Michelle Ford-Eriksson</td>\n",
       "      <td>michelle</td>\n",
       "    </tr>\n",
       "    <tr>\n",
       "      <td>3</td>\n",
       "      <td>place</td>\n",
       "      <td>Ramsbury</td>\n",
       "      <td>ramsbury</td>\n",
       "    </tr>\n",
       "    <tr>\n",
       "      <td>4</td>\n",
       "      <td>place</td>\n",
       "      <td>Market Bosworth</td>\n",
       "      <td>market</td>\n",
       "    </tr>\n",
       "    <tr>\n",
       "      <td>5</td>\n",
       "      <td>drug</td>\n",
       "      <td>Cyanide Antidote Package</td>\n",
       "      <td>cyanide</td>\n",
       "    </tr>\n",
       "    <tr>\n",
       "      <td>6</td>\n",
       "      <td>person</td>\n",
       "      <td>Bill Johnson</td>\n",
       "      <td>bill</td>\n",
       "    </tr>\n",
       "    <tr>\n",
       "      <td>7</td>\n",
       "      <td>place</td>\n",
       "      <td>Ettalong</td>\n",
       "      <td>ettalong</td>\n",
       "    </tr>\n",
       "    <tr>\n",
       "      <td>8</td>\n",
       "      <td>movie</td>\n",
       "      <td>The Suicide Club</td>\n",
       "      <td>the</td>\n",
       "    </tr>\n",
       "    <tr>\n",
       "      <td>9</td>\n",
       "      <td>place</td>\n",
       "      <td>Pézenas</td>\n",
       "      <td>pézenas</td>\n",
       "    </tr>\n",
       "  </tbody>\n",
       "</table>\n",
       "</div>"
      ],
      "text/plain": [
       "     type                           name first_word\n",
       "0    drug                        Dilotab    dilotab\n",
       "1   movie  Beastie Boys: Live in Glasgow    beastie\n",
       "2  person         Michelle Ford-Eriksson   michelle\n",
       "3   place                       Ramsbury   ramsbury\n",
       "4   place                Market Bosworth     market\n",
       "5    drug       Cyanide Antidote Package    cyanide\n",
       "6  person                   Bill Johnson       bill\n",
       "7   place                       Ettalong   ettalong\n",
       "8   movie               The Suicide Club        the\n",
       "9   place                        Pézenas    pézenas"
      ]
     },
     "execution_count": 55,
     "metadata": {},
     "output_type": "execute_result"
    }
   ],
   "source": [
    "data.head(10)"
   ]
  },
  {
   "cell_type": "markdown",
   "metadata": {},
   "source": [
    "### Question 2: Write Probability Function"
   ]
  },
  {
   "cell_type": "markdown",
   "metadata": {},
   "source": [
    "#### a. Write probability function for the `type` column.\n",
    "* Define a function with this signature `def P(T)` that returns the relative frequency of a given *type*. \n",
    "* The `Counter` class in the `collections` module may be helpful."
   ]
  },
  {
   "cell_type": "code",
   "execution_count": 56,
   "metadata": {},
   "outputs": [],
   "source": [
    "from collections import Counter as ctr\n",
    "import numpy as np\n",
    "\n",
    "prob_ty = ctr(data.type)\n",
    "prob_tot = len(data)\n",
    "\n",
    "def P(T=\"\"):\n",
    "    return prob_ty[T] / prob_tot"
   ]
  },
  {
   "cell_type": "markdown",
   "metadata": {},
   "source": [
    "#### b. What is the probability of the *type* `movie`? "
   ]
  },
  {
   "cell_type": "code",
   "execution_count": 57,
   "metadata": {},
   "outputs": [
    {
     "data": {
      "text/plain": [
       "0.29817627732012764"
      ]
     },
     "execution_count": 57,
     "metadata": {},
     "output_type": "execute_result"
    }
   ],
   "source": [
    "P('movie')"
   ]
  },
  {
   "cell_type": "markdown",
   "metadata": {},
   "source": [
    "#### c. Show the probabilities of all of the *type*s sum to one. "
   ]
  },
  {
   "cell_type": "code",
   "execution_count": 58,
   "metadata": {},
   "outputs": [
    {
     "data": {
      "text/plain": [
       "1.0"
      ]
     },
     "execution_count": 58,
     "metadata": {},
     "output_type": "execute_result"
    }
   ],
   "source": [
    "import numpy as np\n",
    "round(np.sum([P(T=x) for x in set(data['type'])]))"
   ]
  },
  {
   "cell_type": "markdown",
   "metadata": {},
   "source": [
    "### Question 3: Write a Joint Distribution Function"
   ]
  },
  {
   "cell_type": "markdown",
   "metadata": {},
   "source": [
    "#### a. Write a joint probability function for `type` and `first_word`.\n",
    "* Define a function with this signature `P2(T, W1)` that returns the joint probability of the entries in the `type` and `first_word` columns.  \n",
    "* You may want to use the `zip` function to combine the data before counting. "
   ]
  },
  {
   "cell_type": "code",
   "execution_count": 59,
   "metadata": {},
   "outputs": [],
   "source": [
    "probb_ty = {}\n",
    "probb_tot = {}\n",
    "\n",
    "for T in set(data.type):\n",
    "    tar = data[data.type == T]\n",
    "    tar_tot = [wd for wd in tar.first_word]\n",
    "    probb_ty[T] = ctr(tar_tot)\n",
    "    probb_tot[T] = len(tar_tot)\n",
    "\n",
    "def P2(T=\"\", W1=\"\"):\n",
    "    return probb_ty[T][W1] / sum(probb_tot.values())\n",
    "   "
   ]
  },
  {
   "cell_type": "markdown",
   "metadata": {},
   "source": [
    "#### b. What is the joint probability of the *type* `'person'` and the *first word* `'bill'`? "
   ]
  },
  {
   "cell_type": "code",
   "execution_count": 60,
   "metadata": {},
   "outputs": [
    {
     "data": {
      "text/plain": [
       "0.00047616780153326033"
      ]
     },
     "execution_count": 60,
     "metadata": {},
     "output_type": "execute_result"
    }
   ],
   "source": [
    "P2(T='person', W1='bill')"
   ]
  },
  {
   "cell_type": "markdown",
   "metadata": {},
   "source": [
    "#### c. What is the joint probability of the *type* `'movie'` and the *first word* `'the'`? "
   ]
  },
  {
   "cell_type": "code",
   "execution_count": 61,
   "metadata": {},
   "outputs": [
    {
     "data": {
      "text/plain": [
       "0.02747488214846912"
      ]
     },
     "execution_count": 61,
     "metadata": {},
     "output_type": "execute_result"
    }
   ],
   "source": [
    "P2(T='movie', W1='the')"
   ]
  },
  {
   "cell_type": "markdown",
   "metadata": {},
   "source": [
    "#### d. Show that the probability distribution sums to one. "
   ]
  },
  {
   "cell_type": "code",
   "execution_count": 62,
   "metadata": {},
   "outputs": [
    {
     "data": {
      "text/plain": [
       "0.9999999999997853"
      ]
     },
     "execution_count": 62,
     "metadata": {},
     "output_type": "execute_result"
    }
   ],
   "source": [
    "sum([P2(T, W1) for T in set(data.type) for W1 in set(data.first_word)])"
   ]
  },
  {
   "cell_type": "markdown",
   "metadata": {},
   "source": [
    "### Question 4: Write Another Probability Function"
   ]
  },
  {
   "cell_type": "markdown",
   "metadata": {},
   "source": [
    "#### a. Write another probability function for the `type` column.\n",
    "* Define a function with this signature `def Q(T)` that returns the relative frequency of a given *type*. \n",
    "* This function should marginalize the `type` distribution from the joint distribution function `P2`. "
   ]
  },
  {
   "cell_type": "code",
   "execution_count": 63,
   "metadata": {},
   "outputs": [],
   "source": [
    "def Q(T):\n",
    "    return sum([P2(T, W1) for W1 in set(data.first_word)])"
   ]
  },
  {
   "cell_type": "markdown",
   "metadata": {},
   "source": [
    "#### b. What is the probability of the *type* `'movie'`?  (The answer should be the same as Question 2b.)  "
   ]
  },
  {
   "cell_type": "code",
   "execution_count": 64,
   "metadata": {},
   "outputs": [
    {
     "data": {
      "text/plain": [
       "0.29817627732012764"
      ]
     },
     "execution_count": 64,
     "metadata": {},
     "output_type": "execute_result"
    }
   ],
   "source": [
    "Q('movie')"
   ]
  },
  {
   "cell_type": "markdown",
   "metadata": {},
   "source": [
    "#### c. Show that the probability distribution sums to one. "
   ]
  },
  {
   "cell_type": "code",
   "execution_count": 65,
   "metadata": {},
   "outputs": [
    {
     "data": {
      "text/plain": [
       "1.000000000000029"
      ]
     },
     "execution_count": 65,
     "metadata": {},
     "output_type": "execute_result"
    }
   ],
   "source": [
    "sum([Q(T) for T in set(data.type)])"
   ]
  },
  {
   "cell_type": "markdown",
   "metadata": {},
   "source": [
    "### Question 5: Compute KL-Divergence"
   ]
  },
  {
   "cell_type": "markdown",
   "metadata": {},
   "source": [
    "#### a. Compute the KL-Divergence for the probability functions `P` and `Q`. "
   ]
  },
  {
   "cell_type": "code",
   "execution_count": 66,
   "metadata": {},
   "outputs": [
    {
     "data": {
      "text/plain": [
       "-2.9158386629021504e-14"
      ]
     },
     "execution_count": 66,
     "metadata": {},
     "output_type": "execute_result"
    }
   ],
   "source": [
    "sum([P(T) * math.log(P(T)/Q(T)) for T in set(data.type)])"
   ]
  },
  {
   "cell_type": "markdown",
   "metadata": {},
   "source": [
    "#### b. Why did you get this answer? "
   ]
  },
  {
   "cell_type": "markdown",
   "metadata": {},
   "source": [
    "Because, negative sum of each occurance in P is multiplied by the log of the probability of the occurance in Q over the probability of event P."
   ]
  },
  {
   "cell_type": "markdown",
   "metadata": {},
   "source": [
    "### Question 6: Calculating Conditional Probabilities"
   ]
  },
  {
   "cell_type": "markdown",
   "metadata": {},
   "source": [
    "#### a. How can you find the conditional probability of a *first word* given a *type* using the joint probability of these variables? \n",
    "* What's the formula for this calculation? Don't do the calculation. \n",
    "* It may require a modification of the *Multiplication Rule*. "
   ]
  },
  {
   "cell_type": "markdown",
   "metadata": {},
   "source": [
    "P(first_word|type) = P(type and first_word) / P(type)"
   ]
  },
  {
   "cell_type": "markdown",
   "metadata": {},
   "source": [
    "#### b. Write a conditional probability function for a `first_word` and `type`.\n",
    "* Define a function with this signature `def Pwt(W1, T)` that returns the conditional probability of a `first_word` given a `type`. Mathematically: `P(W1 | T)`. \n",
    "* This function should use the probabilities functions above to do the calculation. "
   ]
  },
  {
   "cell_type": "code",
   "execution_count": 77,
   "metadata": {},
   "outputs": [],
   "source": [
    "def Pwt(W1=\"\", T=\"\"):\n",
    "    return P2(T, W1) / P(T)"
   ]
  },
  {
   "cell_type": "markdown",
   "metadata": {},
   "source": [
    "#### c. What is the conditional probability of `'the'`, given `'movie'`?"
   ]
  },
  {
   "cell_type": "code",
   "execution_count": 78,
   "metadata": {},
   "outputs": [
    {
     "data": {
      "text/plain": [
       "0.09214308527626956"
      ]
     },
     "execution_count": 78,
     "metadata": {},
     "output_type": "execute_result"
    }
   ],
   "source": [
    "Pwt(W1='the',T='movie')"
   ]
  },
  {
   "cell_type": "markdown",
   "metadata": {},
   "source": [
    "### Question 7: Use Bayes' Theorem to Convert Conditional Probabilities"
   ]
  },
  {
   "cell_type": "markdown",
   "metadata": {},
   "source": [
    "#### a. Find the conditional probability of a *type* given a *first word* using the conditional probability of a *first word* given a *type*. \n",
    "* Define a function with this signature `def Ptw(T, W1)` that returns the conditional probability of a `type` given a `first_word`. Mathematically: `P(T | W1)`.\n",
    "* Use Bayes' Theorem and the probability function for *type*s above do the calculation. You may also need to write a new probability function of *first word*s. "
   ]
  },
  {
   "cell_type": "code",
   "execution_count": 79,
   "metadata": {},
   "outputs": [],
   "source": [
    "words_ctr = ctr(data.first_word)\n",
    "\n",
    "def Pw1(W1):\n",
    "    return words_ctr[W1] / sum(words_ctr.values())\n",
    "\n",
    "def Ptw(T=\"\", W1=\"\"):\n",
    "    return Pwt(W1, T) * P(T) / Pw1(W1)"
   ]
  },
  {
   "cell_type": "markdown",
   "metadata": {},
   "source": [
    "#### b. What is conditional probability of the *type* `'movie'` given the *first word* `'the'`?"
   ]
  },
  {
   "cell_type": "code",
   "execution_count": 80,
   "metadata": {},
   "outputs": [
    {
     "data": {
      "text/plain": [
       "0.9086614173228347"
      ]
     },
     "execution_count": 80,
     "metadata": {},
     "output_type": "execute_result"
    }
   ],
   "source": [
    "Ptw(T='movie',W1='the')"
   ]
  },
  {
   "cell_type": "markdown",
   "metadata": {},
   "source": [
    "#### c. What is conditional probability of the *type* `'person'` given the *first word* `'the'`?"
   ]
  },
  {
   "cell_type": "code",
   "execution_count": 81,
   "metadata": {},
   "outputs": [
    {
     "data": {
      "text/plain": [
       "0.0"
      ]
     },
     "execution_count": 81,
     "metadata": {},
     "output_type": "execute_result"
    }
   ],
   "source": [
    "Ptw(T='person',W1='the')"
   ]
  },
  {
   "cell_type": "markdown",
   "metadata": {},
   "source": [
    "#### d. What is conditional probability of the *type* `'drug'` given the *first word* `'the'`?"
   ]
  },
  {
   "cell_type": "code",
   "execution_count": 82,
   "metadata": {},
   "outputs": [
    {
     "data": {
      "text/plain": [
       "0.0"
      ]
     },
     "execution_count": 82,
     "metadata": {},
     "output_type": "execute_result"
    }
   ],
   "source": [
    "Ptw(T='drug',W1='the')"
   ]
  },
  {
   "cell_type": "markdown",
   "metadata": {},
   "source": [
    "#### e. What is conditional probability of the *type* `'place'` given the *first word* `'the'`?"
   ]
  },
  {
   "cell_type": "code",
   "execution_count": 83,
   "metadata": {},
   "outputs": [
    {
     "data": {
      "text/plain": [
       "0.0015748031496062992"
      ]
     },
     "execution_count": 83,
     "metadata": {},
     "output_type": "execute_result"
    }
   ],
   "source": [
    "Ptw(T='place',W1='the')"
   ]
  },
  {
   "cell_type": "markdown",
   "metadata": {},
   "source": [
    "#### f. What is conditional probability of the *type* `'company'` given the *first word* `'the'`?"
   ]
  },
  {
   "cell_type": "code",
   "execution_count": 84,
   "metadata": {},
   "outputs": [
    {
     "data": {
      "text/plain": [
       "0.08976377952755905"
      ]
     },
     "execution_count": 84,
     "metadata": {},
     "output_type": "execute_result"
    }
   ],
   "source": [
    "Ptw(T='company',W1='the')"
   ]
  },
  {
   "cell_type": "markdown",
   "metadata": {},
   "source": [
    "#### g. Given this, if 'the' is the *first word*, what is the most likely *type*?"
   ]
  },
  {
   "cell_type": "markdown",
   "metadata": {},
   "source": [
    "movie"
   ]
  },
  {
   "cell_type": "markdown",
   "metadata": {},
   "source": [
    "### Question 8: Comparing Conditional Probabilities  "
   ]
  },
  {
   "cell_type": "markdown",
   "metadata": {},
   "source": [
    "#### a. What is the conditional probability of the *first word* `'the'` given the *type* `'movie'`?"
   ]
  },
  {
   "cell_type": "code",
   "execution_count": 85,
   "metadata": {},
   "outputs": [
    {
     "data": {
      "text/plain": [
       "0.9086614173228347"
      ]
     },
     "execution_count": 85,
     "metadata": {},
     "output_type": "execute_result"
    }
   ],
   "source": [
    "Ptw(T='movie',W1='the')"
   ]
  },
  {
   "cell_type": "markdown",
   "metadata": {},
   "source": [
    "#### b. What is the conditional probability of the *type* `'movie'` given the *first word* `'the'`?"
   ]
  },
  {
   "cell_type": "code",
   "execution_count": 86,
   "metadata": {},
   "outputs": [
    {
     "data": {
      "text/plain": [
       "0.09214308527626956"
      ]
     },
     "execution_count": 86,
     "metadata": {},
     "output_type": "execute_result"
    }
   ],
   "source": [
    "Pwt(W1='the', T='movie')"
   ]
  },
  {
   "cell_type": "markdown",
   "metadata": {},
   "source": [
    "#### c. Are the two conditional probabilites the same? Why, or why not? "
   ]
  },
  {
   "cell_type": "markdown",
   "metadata": {},
   "source": [
    "I don't think so. These two probabilities aren't identical."
   ]
  },
  {
   "cell_type": "markdown",
   "metadata": {},
   "source": [
    "### Question 9: Fitting Probability Distributions to the Data"
   ]
  },
  {
   "cell_type": "markdown",
   "metadata": {},
   "source": [
    "#### In our calculations, we assumed the data has a discrete probability distribution. Should we have used a continuous probability distribution, like a Gaussian or an exponential distribution? Why, or why not? "
   ]
  },
  {
   "cell_type": "markdown",
   "metadata": {},
   "source": [
    "In my way of thinking, a continuous function would be preferable.`"
   ]
  },
  {
   "cell_type": "code",
   "execution_count": null,
   "metadata": {},
   "outputs": [],
   "source": []
  }
 ],
 "metadata": {
  "kernelspec": {
   "display_name": "Python 3",
   "language": "python",
   "name": "python3"
  },
  "language_info": {
   "codemirror_mode": {
    "name": "ipython",
    "version": 3
   },
   "file_extension": ".py",
   "mimetype": "text/x-python",
   "name": "python",
   "nbconvert_exporter": "python",
   "pygments_lexer": "ipython3",
   "version": "3.7.4"
  }
 },
 "nbformat": 4,
 "nbformat_minor": 2
}
