{
 "cells": [
  {
   "cell_type": "markdown",
   "metadata": {},
   "source": [
    "Data Wrangling\n",
    "\n",
    "Md Tohidul Islam\n"
   ]
  },
  {
   "cell_type": "code",
   "execution_count": 1,
   "metadata": {},
   "outputs": [],
   "source": [
    "import numpy as np\n",
    "import pandas as pd\n",
    "\n",
    "import pandas as pd\n",
    "import glob\n",
    "import re"
   ]
  },
  {
   "cell_type": "markdown",
   "metadata": {},
   "source": [
    "Question 1: Load the data.\n",
    "\n",
    "Download this CSV file with local twitter data.\n",
    "\n",
    "Load the data into a DataFrame called tweets.\n",
    "\n",
    "Name the columns: polarity, id, date, query, user, and tweet.\n",
    "\n",
    "Store the values in the table using the ISO-8859-1 string encoding.\n",
    "\n",
    "Display the first five rows of the DataFrame.\n",
    "\n",
    "How many entries are in the table?"
   ]
  },
  {
   "cell_type": "code",
   "execution_count": 2,
   "metadata": {
    "scrolled": true
   },
   "outputs": [
    {
     "data": {
      "text/html": [
       "<div>\n",
       "<style scoped>\n",
       "    .dataframe tbody tr th:only-of-type {\n",
       "        vertical-align: middle;\n",
       "    }\n",
       "\n",
       "    .dataframe tbody tr th {\n",
       "        vertical-align: top;\n",
       "    }\n",
       "\n",
       "    .dataframe thead th {\n",
       "        text-align: right;\n",
       "    }\n",
       "</style>\n",
       "<table border=\"1\" class=\"dataframe\">\n",
       "  <thead>\n",
       "    <tr style=\"text-align: right;\">\n",
       "      <th></th>\n",
       "      <th>polarity</th>\n",
       "      <th>id</th>\n",
       "      <th>date</th>\n",
       "      <th>query</th>\n",
       "      <th>user</th>\n",
       "      <th>tweet</th>\n",
       "    </tr>\n",
       "  </thead>\n",
       "  <tbody>\n",
       "    <tr>\n",
       "      <td>0</td>\n",
       "      <td>0</td>\n",
       "      <td>1467810672</td>\n",
       "      <td>Mon Apr 06 22:19:49 PDT 2009</td>\n",
       "      <td>NO_QUERY</td>\n",
       "      <td>scotthamilton</td>\n",
       "      <td>is upset that he can't update his Facebook by ...</td>\n",
       "    </tr>\n",
       "    <tr>\n",
       "      <td>1</td>\n",
       "      <td>0</td>\n",
       "      <td>1467810917</td>\n",
       "      <td>Mon Apr 06 22:19:53 PDT 2009</td>\n",
       "      <td>NO_QUERY</td>\n",
       "      <td>mattycus</td>\n",
       "      <td>@Kenichan I dived many times for the ball. Man...</td>\n",
       "    </tr>\n",
       "    <tr>\n",
       "      <td>2</td>\n",
       "      <td>0</td>\n",
       "      <td>1467811184</td>\n",
       "      <td>Mon Apr 06 22:19:57 PDT 2009</td>\n",
       "      <td>NO_QUERY</td>\n",
       "      <td>ElleCTF</td>\n",
       "      <td>my whole body feels itchy and like its on fire</td>\n",
       "    </tr>\n",
       "    <tr>\n",
       "      <td>3</td>\n",
       "      <td>0</td>\n",
       "      <td>1467811193</td>\n",
       "      <td>Mon Apr 06 22:19:57 PDT 2009</td>\n",
       "      <td>NO_QUERY</td>\n",
       "      <td>Karoli</td>\n",
       "      <td>@nationwideclass no, it's not behaving at all....</td>\n",
       "    </tr>\n",
       "    <tr>\n",
       "      <td>4</td>\n",
       "      <td>0</td>\n",
       "      <td>1467811372</td>\n",
       "      <td>Mon Apr 06 22:20:00 PDT 2009</td>\n",
       "      <td>NO_QUERY</td>\n",
       "      <td>joy_wolf</td>\n",
       "      <td>@Kwesidei not the whole crew</td>\n",
       "    </tr>\n",
       "  </tbody>\n",
       "</table>\n",
       "</div>"
      ],
      "text/plain": [
       "   polarity          id                          date     query  \\\n",
       "0         0  1467810672  Mon Apr 06 22:19:49 PDT 2009  NO_QUERY   \n",
       "1         0  1467810917  Mon Apr 06 22:19:53 PDT 2009  NO_QUERY   \n",
       "2         0  1467811184  Mon Apr 06 22:19:57 PDT 2009  NO_QUERY   \n",
       "3         0  1467811193  Mon Apr 06 22:19:57 PDT 2009  NO_QUERY   \n",
       "4         0  1467811372  Mon Apr 06 22:20:00 PDT 2009  NO_QUERY   \n",
       "\n",
       "            user                                              tweet  \n",
       "0  scotthamilton  is upset that he can't update his Facebook by ...  \n",
       "1       mattycus  @Kenichan I dived many times for the ball. Man...  \n",
       "2        ElleCTF    my whole body feels itchy and like its on fire   \n",
       "3         Karoli  @nationwideclass no, it's not behaving at all....  \n",
       "4       joy_wolf                      @Kwesidei not the whole crew   "
      ]
     },
     "execution_count": 2,
     "metadata": {},
     "output_type": "execute_result"
    }
   ],
   "source": [
    "tweets = pd.read_csv('sentiment.csv', encoding='ISO-8859-1')\n",
    "\n",
    "\n",
    "tweets.columns = ['polarity', 'id', 'date', 'query', 'user','tweet']\n",
    "\n",
    "tweets.head()"
   ]
  },
  {
   "cell_type": "code",
   "execution_count": 3,
   "metadata": {},
   "outputs": [
    {
     "data": {
      "text/plain": [
       "1599999"
      ]
     },
     "execution_count": 3,
     "metadata": {},
     "output_type": "execute_result"
    }
   ],
   "source": [
    "len(tweets)"
   ]
  },
  {
   "cell_type": "markdown",
   "metadata": {},
   "source": [
    "There are total 1599999 entries in the table."
   ]
  },
  {
   "cell_type": "code",
   "execution_count": null,
   "metadata": {},
   "outputs": [],
   "source": []
  },
  {
   "cell_type": "markdown",
   "metadata": {},
   "source": [
    "Question 2: Sample twitter data.\n",
    "Randomly sample 1% of the data and save to a new DataFrame called sample_tweets.\n",
    "\n",
    "Display the first ten rows of the DataFrame.\n",
    "\n",
    "How many entries are in the table?"
   ]
  },
  {
   "cell_type": "code",
   "execution_count": 4,
   "metadata": {},
   "outputs": [
    {
     "data": {
      "text/html": [
       "<div>\n",
       "<style scoped>\n",
       "    .dataframe tbody tr th:only-of-type {\n",
       "        vertical-align: middle;\n",
       "    }\n",
       "\n",
       "    .dataframe tbody tr th {\n",
       "        vertical-align: top;\n",
       "    }\n",
       "\n",
       "    .dataframe thead th {\n",
       "        text-align: right;\n",
       "    }\n",
       "</style>\n",
       "<table border=\"1\" class=\"dataframe\">\n",
       "  <thead>\n",
       "    <tr style=\"text-align: right;\">\n",
       "      <th></th>\n",
       "      <th>polarity</th>\n",
       "      <th>id</th>\n",
       "      <th>date</th>\n",
       "      <th>query</th>\n",
       "      <th>user</th>\n",
       "      <th>tweet</th>\n",
       "    </tr>\n",
       "  </thead>\n",
       "  <tbody>\n",
       "    <tr>\n",
       "      <td>620722</td>\n",
       "      <td>0</td>\n",
       "      <td>2228512321</td>\n",
       "      <td>Thu Jun 18 14:31:58 PDT 2009</td>\n",
       "      <td>NO_QUERY</td>\n",
       "      <td>mutdlegend</td>\n",
       "      <td>@AndrewThomas89 sorry had to end bp Thursday e...</td>\n",
       "    </tr>\n",
       "    <tr>\n",
       "      <td>1586623</td>\n",
       "      <td>4</td>\n",
       "      <td>2190833360</td>\n",
       "      <td>Tue Jun 16 03:51:11 PDT 2009</td>\n",
       "      <td>NO_QUERY</td>\n",
       "      <td>Gay_Burns</td>\n",
       "      <td>@rudedoodle my fav balamory has to be the one ...</td>\n",
       "    </tr>\n",
       "    <tr>\n",
       "      <td>531250</td>\n",
       "      <td>0</td>\n",
       "      <td>2196254501</td>\n",
       "      <td>Tue Jun 16 12:13:43 PDT 2009</td>\n",
       "      <td>NO_QUERY</td>\n",
       "      <td>rbmartin</td>\n",
       "      <td>@felicityfuller Not you as well! @ms_cornwall'...</td>\n",
       "    </tr>\n",
       "    <tr>\n",
       "      <td>1173467</td>\n",
       "      <td>4</td>\n",
       "      <td>1980770400</td>\n",
       "      <td>Sun May 31 07:37:48 PDT 2009</td>\n",
       "      <td>NO_QUERY</td>\n",
       "      <td>jazzt</td>\n",
       "      <td>@thenewpsies  http://justjared.buzznet.com/ go...</td>\n",
       "    </tr>\n",
       "    <tr>\n",
       "      <td>1184690</td>\n",
       "      <td>4</td>\n",
       "      <td>1982650488</td>\n",
       "      <td>Sun May 31 11:37:54 PDT 2009</td>\n",
       "      <td>NO_QUERY</td>\n",
       "      <td>victoria8981</td>\n",
       "      <td>@friplaylist ... and 'Rock me Like a Hurricane...</td>\n",
       "    </tr>\n",
       "    <tr>\n",
       "      <td>771849</td>\n",
       "      <td>0</td>\n",
       "      <td>2302530534</td>\n",
       "      <td>Tue Jun 23 16:56:26 PDT 2009</td>\n",
       "      <td>NO_QUERY</td>\n",
       "      <td>fishaay</td>\n",
       "      <td>im actually so depressed im gonna go jump of d...</td>\n",
       "    </tr>\n",
       "    <tr>\n",
       "      <td>83713</td>\n",
       "      <td>0</td>\n",
       "      <td>1753422718</td>\n",
       "      <td>Sun May 10 01:33:46 PDT 2009</td>\n",
       "      <td>NO_QUERY</td>\n",
       "      <td>akneiva</td>\n",
       "      <td>im new on twitter , noone reads me yet</td>\n",
       "    </tr>\n",
       "    <tr>\n",
       "      <td>289176</td>\n",
       "      <td>0</td>\n",
       "      <td>1994869677</td>\n",
       "      <td>Mon Jun 01 12:35:12 PDT 2009</td>\n",
       "      <td>NO_QUERY</td>\n",
       "      <td>BreathingNow</td>\n",
       "      <td>Mu network-connectiojn has been down for a while</td>\n",
       "    </tr>\n",
       "    <tr>\n",
       "      <td>1495896</td>\n",
       "      <td>4</td>\n",
       "      <td>2070003327</td>\n",
       "      <td>Sun Jun 07 16:55:40 PDT 2009</td>\n",
       "      <td>NO_QUERY</td>\n",
       "      <td>emailelle</td>\n",
       "      <td>@afrobella your struggle = my struggle!  think...</td>\n",
       "    </tr>\n",
       "    <tr>\n",
       "      <td>1120272</td>\n",
       "      <td>4</td>\n",
       "      <td>1973915473</td>\n",
       "      <td>Sat May 30 12:04:57 PDT 2009</td>\n",
       "      <td>NO_QUERY</td>\n",
       "      <td>successfulwomen</td>\n",
       "      <td>Brilliant performance by #SusanBoyle well done...</td>\n",
       "    </tr>\n",
       "  </tbody>\n",
       "</table>\n",
       "</div>"
      ],
      "text/plain": [
       "         polarity          id                          date     query  \\\n",
       "620722          0  2228512321  Thu Jun 18 14:31:58 PDT 2009  NO_QUERY   \n",
       "1586623         4  2190833360  Tue Jun 16 03:51:11 PDT 2009  NO_QUERY   \n",
       "531250          0  2196254501  Tue Jun 16 12:13:43 PDT 2009  NO_QUERY   \n",
       "1173467         4  1980770400  Sun May 31 07:37:48 PDT 2009  NO_QUERY   \n",
       "1184690         4  1982650488  Sun May 31 11:37:54 PDT 2009  NO_QUERY   \n",
       "771849          0  2302530534  Tue Jun 23 16:56:26 PDT 2009  NO_QUERY   \n",
       "83713           0  1753422718  Sun May 10 01:33:46 PDT 2009  NO_QUERY   \n",
       "289176          0  1994869677  Mon Jun 01 12:35:12 PDT 2009  NO_QUERY   \n",
       "1495896         4  2070003327  Sun Jun 07 16:55:40 PDT 2009  NO_QUERY   \n",
       "1120272         4  1973915473  Sat May 30 12:04:57 PDT 2009  NO_QUERY   \n",
       "\n",
       "                    user                                              tweet  \n",
       "620722        mutdlegend  @AndrewThomas89 sorry had to end bp Thursday e...  \n",
       "1586623        Gay_Burns  @rudedoodle my fav balamory has to be the one ...  \n",
       "531250          rbmartin  @felicityfuller Not you as well! @ms_cornwall'...  \n",
       "1173467            jazzt  @thenewpsies  http://justjared.buzznet.com/ go...  \n",
       "1184690     victoria8981  @friplaylist ... and 'Rock me Like a Hurricane...  \n",
       "771849           fishaay  im actually so depressed im gonna go jump of d...  \n",
       "83713            akneiva            im new on twitter , noone reads me yet   \n",
       "289176      BreathingNow  Mu network-connectiojn has been down for a while   \n",
       "1495896        emailelle  @afrobella your struggle = my struggle!  think...  \n",
       "1120272  successfulwomen  Brilliant performance by #SusanBoyle well done...  "
      ]
     },
     "execution_count": 4,
     "metadata": {},
     "output_type": "execute_result"
    }
   ],
   "source": [
    "sample_tweets = tweets.sample(n=16000)\n",
    "\n",
    "sample_tweets.head(10)"
   ]
  },
  {
   "cell_type": "code",
   "execution_count": 5,
   "metadata": {},
   "outputs": [
    {
     "data": {
      "text/plain": [
       "16000"
      ]
     },
     "execution_count": 5,
     "metadata": {},
     "output_type": "execute_result"
    }
   ],
   "source": [
    "len(sample_tweets)"
   ]
  },
  {
   "cell_type": "markdown",
   "metadata": {},
   "source": [
    "There are 16000 entries in this table."
   ]
  },
  {
   "cell_type": "code",
   "execution_count": null,
   "metadata": {},
   "outputs": [],
   "source": []
  },
  {
   "cell_type": "markdown",
   "metadata": {},
   "source": [
    "Question 3: Drop unused data.\n",
    "Drop id, date, query, and user columns from sample_tweets.\n",
    "\n",
    "Display the first ten lines of the DataFrame."
   ]
  },
  {
   "cell_type": "code",
   "execution_count": null,
   "metadata": {},
   "outputs": [],
   "source": []
  },
  {
   "cell_type": "code",
   "execution_count": 6,
   "metadata": {},
   "outputs": [
    {
     "data": {
      "text/html": [
       "<div>\n",
       "<style scoped>\n",
       "    .dataframe tbody tr th:only-of-type {\n",
       "        vertical-align: middle;\n",
       "    }\n",
       "\n",
       "    .dataframe tbody tr th {\n",
       "        vertical-align: top;\n",
       "    }\n",
       "\n",
       "    .dataframe thead th {\n",
       "        text-align: right;\n",
       "    }\n",
       "</style>\n",
       "<table border=\"1\" class=\"dataframe\">\n",
       "  <thead>\n",
       "    <tr style=\"text-align: right;\">\n",
       "      <th></th>\n",
       "      <th>polarity</th>\n",
       "      <th>tweet</th>\n",
       "    </tr>\n",
       "  </thead>\n",
       "  <tbody>\n",
       "    <tr>\n",
       "      <td>620722</td>\n",
       "      <td>0</td>\n",
       "      <td>@AndrewThomas89 sorry had to end bp Thursday e...</td>\n",
       "    </tr>\n",
       "    <tr>\n",
       "      <td>1586623</td>\n",
       "      <td>4</td>\n",
       "      <td>@rudedoodle my fav balamory has to be the one ...</td>\n",
       "    </tr>\n",
       "    <tr>\n",
       "      <td>531250</td>\n",
       "      <td>0</td>\n",
       "      <td>@felicityfuller Not you as well! @ms_cornwall'...</td>\n",
       "    </tr>\n",
       "    <tr>\n",
       "      <td>1173467</td>\n",
       "      <td>4</td>\n",
       "      <td>@thenewpsies  http://justjared.buzznet.com/ go...</td>\n",
       "    </tr>\n",
       "    <tr>\n",
       "      <td>1184690</td>\n",
       "      <td>4</td>\n",
       "      <td>@friplaylist ... and 'Rock me Like a Hurricane...</td>\n",
       "    </tr>\n",
       "    <tr>\n",
       "      <td>771849</td>\n",
       "      <td>0</td>\n",
       "      <td>im actually so depressed im gonna go jump of d...</td>\n",
       "    </tr>\n",
       "    <tr>\n",
       "      <td>83713</td>\n",
       "      <td>0</td>\n",
       "      <td>im new on twitter , noone reads me yet</td>\n",
       "    </tr>\n",
       "    <tr>\n",
       "      <td>289176</td>\n",
       "      <td>0</td>\n",
       "      <td>Mu network-connectiojn has been down for a while</td>\n",
       "    </tr>\n",
       "    <tr>\n",
       "      <td>1495896</td>\n",
       "      <td>4</td>\n",
       "      <td>@afrobella your struggle = my struggle!  think...</td>\n",
       "    </tr>\n",
       "    <tr>\n",
       "      <td>1120272</td>\n",
       "      <td>4</td>\n",
       "      <td>Brilliant performance by #SusanBoyle well done...</td>\n",
       "    </tr>\n",
       "  </tbody>\n",
       "</table>\n",
       "</div>"
      ],
      "text/plain": [
       "         polarity                                              tweet\n",
       "620722          0  @AndrewThomas89 sorry had to end bp Thursday e...\n",
       "1586623         4  @rudedoodle my fav balamory has to be the one ...\n",
       "531250          0  @felicityfuller Not you as well! @ms_cornwall'...\n",
       "1173467         4  @thenewpsies  http://justjared.buzznet.com/ go...\n",
       "1184690         4  @friplaylist ... and 'Rock me Like a Hurricane...\n",
       "771849          0  im actually so depressed im gonna go jump of d...\n",
       "83713           0            im new on twitter , noone reads me yet \n",
       "289176          0  Mu network-connectiojn has been down for a while \n",
       "1495896         4  @afrobella your struggle = my struggle!  think...\n",
       "1120272         4  Brilliant performance by #SusanBoyle well done..."
      ]
     },
     "execution_count": 6,
     "metadata": {},
     "output_type": "execute_result"
    }
   ],
   "source": [
    "sample_tweets.drop(['id', 'date','query', 'user'], axis = 1, inplace=True)\n",
    "\n",
    "sample_tweets.head(10)"
   ]
  },
  {
   "cell_type": "markdown",
   "metadata": {},
   "source": [
    "Question 4: Change the positive polarities.\n",
    "Change all 4 polarity values to 1.\n",
    "      Don't use a loop to make the changes. Use a lambda function.\n",
    "\n",
    "Display the first ten lines of the DataFrame."
   ]
  },
  {
   "cell_type": "code",
   "execution_count": 28,
   "metadata": {},
   "outputs": [
    {
     "data": {
      "text/html": [
       "<div>\n",
       "<style scoped>\n",
       "    .dataframe tbody tr th:only-of-type {\n",
       "        vertical-align: middle;\n",
       "    }\n",
       "\n",
       "    .dataframe tbody tr th {\n",
       "        vertical-align: top;\n",
       "    }\n",
       "\n",
       "    .dataframe thead th {\n",
       "        text-align: right;\n",
       "    }\n",
       "</style>\n",
       "<table border=\"1\" class=\"dataframe\">\n",
       "  <thead>\n",
       "    <tr style=\"text-align: right;\">\n",
       "      <th></th>\n",
       "      <th>polarity</th>\n",
       "      <th>tweet</th>\n",
       "      <th>split</th>\n",
       "      <th>caps</th>\n",
       "      <th>lowercase</th>\n",
       "      <th>hashtags</th>\n",
       "      <th>mentions</th>\n",
       "      <th>urls</th>\n",
       "    </tr>\n",
       "  </thead>\n",
       "  <tbody>\n",
       "    <tr>\n",
       "      <td>620722</td>\n",
       "      <td>0</td>\n",
       "      <td>@AndrewThomas89 sorry had to end bp Thursday e...</td>\n",
       "      <td>[@AndrewThomas89, sorry, had, to, end, bp, Thu...</td>\n",
       "      <td>[]</td>\n",
       "      <td>[sorry, had, to, end, bp, early, had, to, some...</td>\n",
       "      <td>[]</td>\n",
       "      <td>[@AndrewThomas89]</td>\n",
       "      <td>[]</td>\n",
       "    </tr>\n",
       "    <tr>\n",
       "      <td>1586623</td>\n",
       "      <td>1</td>\n",
       "      <td>@rudedoodle my fav balamory has to be the one ...</td>\n",
       "      <td>[@rudedoodle, my, fav, balamory, has, to, be, ...</td>\n",
       "      <td>[PC]</td>\n",
       "      <td>[@rudedoodle, my, fav, balamory, has, to, be, ...</td>\n",
       "      <td>[]</td>\n",
       "      <td>[@rudedoodle]</td>\n",
       "      <td>[]</td>\n",
       "    </tr>\n",
       "    <tr>\n",
       "      <td>531250</td>\n",
       "      <td>0</td>\n",
       "      <td>@felicityfuller Not you as well! @ms_cornwall'...</td>\n",
       "      <td>[@felicityfuller, Not, you, as, well!, @ms_cor...</td>\n",
       "      <td>[]</td>\n",
       "      <td>[@felicityfuller, you, as, well!, @ms_cornwall...</td>\n",
       "      <td>[]</td>\n",
       "      <td>[@felicityfuller, @ms]</td>\n",
       "      <td>[]</td>\n",
       "    </tr>\n",
       "    <tr>\n",
       "      <td>1173467</td>\n",
       "      <td>1</td>\n",
       "      <td>@thenewpsies  http://justjared.buzznet.com/ go...</td>\n",
       "      <td>[@thenewpsies, http://justjared.buzznet.com/, ...</td>\n",
       "      <td>[]</td>\n",
       "      <td>[@thenewpsies, http://justjared.buzznet.com/, ...</td>\n",
       "      <td>[]</td>\n",
       "      <td>[@thenewpsies]</td>\n",
       "      <td>[http://justjared.buzznet.com/]</td>\n",
       "    </tr>\n",
       "    <tr>\n",
       "      <td>1184690</td>\n",
       "      <td>1</td>\n",
       "      <td>@friplaylist ... and 'Rock me Like a Hurricane...</td>\n",
       "      <td>[@friplaylist, ..., and, 'Rock, me, Like, a, H...</td>\n",
       "      <td>[]</td>\n",
       "      <td>[@friplaylist, and, me, a, is, also, great]</td>\n",
       "      <td>[]</td>\n",
       "      <td>[@friplaylist]</td>\n",
       "      <td>[]</td>\n",
       "    </tr>\n",
       "    <tr>\n",
       "      <td>...</td>\n",
       "      <td>...</td>\n",
       "      <td>...</td>\n",
       "      <td>...</td>\n",
       "      <td>...</td>\n",
       "      <td>...</td>\n",
       "      <td>...</td>\n",
       "      <td>...</td>\n",
       "      <td>...</td>\n",
       "    </tr>\n",
       "    <tr>\n",
       "      <td>683686</td>\n",
       "      <td>0</td>\n",
       "      <td>candy riot at the jamjar tonight. 3 bands +lot...</td>\n",
       "      <td>[candy, riot, at, the, jamjar, tonight., 3, ba...</td>\n",
       "      <td>[]</td>\n",
       "      <td>[candy, riot, at, the, jamjar, tonight., bands...</td>\n",
       "      <td>[]</td>\n",
       "      <td>[]</td>\n",
       "      <td>[]</td>\n",
       "    </tr>\n",
       "    <tr>\n",
       "      <td>1107570</td>\n",
       "      <td>1</td>\n",
       "      <td>Relaxing after another luverly ride....lots of...</td>\n",
       "      <td>[Relaxing, after, another, luverly, ride....lo...</td>\n",
       "      <td>[]</td>\n",
       "      <td>[after, another, luverly, ride....lots, of, cl...</td>\n",
       "      <td>[]</td>\n",
       "      <td>[]</td>\n",
       "      <td>[]</td>\n",
       "    </tr>\n",
       "    <tr>\n",
       "      <td>1511917</td>\n",
       "      <td>1</td>\n",
       "      <td>finally done with everything! re-reading eclip...</td>\n",
       "      <td>[finally, done, with, everything!, re-reading,...</td>\n",
       "      <td>[]</td>\n",
       "      <td>[finally, done, with, everything!, re-reading,...</td>\n",
       "      <td>[]</td>\n",
       "      <td>[]</td>\n",
       "      <td>[]</td>\n",
       "    </tr>\n",
       "    <tr>\n",
       "      <td>316580</td>\n",
       "      <td>0</td>\n",
       "      <td>working overtime again</td>\n",
       "      <td>[working, overtime, again]</td>\n",
       "      <td>[]</td>\n",
       "      <td>[working, overtime, again]</td>\n",
       "      <td>[]</td>\n",
       "      <td>[]</td>\n",
       "      <td>[]</td>\n",
       "    </tr>\n",
       "    <tr>\n",
       "      <td>846221</td>\n",
       "      <td>1</td>\n",
       "      <td>brown hair</td>\n",
       "      <td>[brown, hair]</td>\n",
       "      <td>[]</td>\n",
       "      <td>[brown, hair]</td>\n",
       "      <td>[]</td>\n",
       "      <td>[]</td>\n",
       "      <td>[]</td>\n",
       "    </tr>\n",
       "  </tbody>\n",
       "</table>\n",
       "<p>16000 rows × 8 columns</p>\n",
       "</div>"
      ],
      "text/plain": [
       "         polarity                                              tweet  \\\n",
       "620722          0  @AndrewThomas89 sorry had to end bp Thursday e...   \n",
       "1586623         1  @rudedoodle my fav balamory has to be the one ...   \n",
       "531250          0  @felicityfuller Not you as well! @ms_cornwall'...   \n",
       "1173467         1  @thenewpsies  http://justjared.buzznet.com/ go...   \n",
       "1184690         1  @friplaylist ... and 'Rock me Like a Hurricane...   \n",
       "...           ...                                                ...   \n",
       "683686          0  candy riot at the jamjar tonight. 3 bands +lot...   \n",
       "1107570         1  Relaxing after another luverly ride....lots of...   \n",
       "1511917         1  finally done with everything! re-reading eclip...   \n",
       "316580          0                            working overtime again    \n",
       "846221          1                                        brown hair    \n",
       "\n",
       "                                                     split  caps  \\\n",
       "620722   [@AndrewThomas89, sorry, had, to, end, bp, Thu...    []   \n",
       "1586623  [@rudedoodle, my, fav, balamory, has, to, be, ...  [PC]   \n",
       "531250   [@felicityfuller, Not, you, as, well!, @ms_cor...    []   \n",
       "1173467  [@thenewpsies, http://justjared.buzznet.com/, ...    []   \n",
       "1184690  [@friplaylist, ..., and, 'Rock, me, Like, a, H...    []   \n",
       "...                                                    ...   ...   \n",
       "683686   [candy, riot, at, the, jamjar, tonight., 3, ba...    []   \n",
       "1107570  [Relaxing, after, another, luverly, ride....lo...    []   \n",
       "1511917  [finally, done, with, everything!, re-reading,...    []   \n",
       "316580                          [working, overtime, again]    []   \n",
       "846221                                       [brown, hair]    []   \n",
       "\n",
       "                                                 lowercase hashtags  \\\n",
       "620722   [sorry, had, to, end, bp, early, had, to, some...       []   \n",
       "1586623  [@rudedoodle, my, fav, balamory, has, to, be, ...       []   \n",
       "531250   [@felicityfuller, you, as, well!, @ms_cornwall...       []   \n",
       "1173467  [@thenewpsies, http://justjared.buzznet.com/, ...       []   \n",
       "1184690        [@friplaylist, and, me, a, is, also, great]       []   \n",
       "...                                                    ...      ...   \n",
       "683686   [candy, riot, at, the, jamjar, tonight., bands...       []   \n",
       "1107570  [after, another, luverly, ride....lots, of, cl...       []   \n",
       "1511917  [finally, done, with, everything!, re-reading,...       []   \n",
       "316580                          [working, overtime, again]       []   \n",
       "846221                                       [brown, hair]       []   \n",
       "\n",
       "                       mentions                             urls  \n",
       "620722        [@AndrewThomas89]                               []  \n",
       "1586623           [@rudedoodle]                               []  \n",
       "531250   [@felicityfuller, @ms]                               []  \n",
       "1173467          [@thenewpsies]  [http://justjared.buzznet.com/]  \n",
       "1184690          [@friplaylist]                               []  \n",
       "...                         ...                              ...  \n",
       "683686                       []                               []  \n",
       "1107570                      []                               []  \n",
       "1511917                      []                               []  \n",
       "316580                       []                               []  \n",
       "846221                       []                               []  \n",
       "\n",
       "[16000 rows x 8 columns]"
      ]
     },
     "execution_count": 28,
     "metadata": {},
     "output_type": "execute_result"
    }
   ],
   "source": [
    "sample_tweets['polarity'] = sample_tweets['polarity'].apply(lambda x: 1 if x is 4 else x)\n",
    "\n",
    "\n",
    "sample_tweets"
   ]
  },
  {
   "cell_type": "code",
   "execution_count": null,
   "metadata": {},
   "outputs": [],
   "source": []
  },
  {
   "cell_type": "markdown",
   "metadata": {},
   "source": [
    "Question 5: Count number of entries with each polarity.\n",
    "How many entries are there for each polarity?\n",
    "\n",
    "Use the GroupBy methods to find the answer."
   ]
  },
  {
   "cell_type": "code",
   "execution_count": 8,
   "metadata": {},
   "outputs": [
    {
     "data": {
      "text/plain": [
       "polarity\n",
       "0    7975\n",
       "4    8025\n",
       "dtype: int64"
      ]
     },
     "execution_count": 8,
     "metadata": {},
     "output_type": "execute_result"
    }
   ],
   "source": [
    "sample_tweets.groupby('polarity').size()"
   ]
  },
  {
   "cell_type": "raw",
   "metadata": {},
   "source": [
    "There are 8022 entries for 0 polarity and 7978 entries polarity 4."
   ]
  },
  {
   "cell_type": "code",
   "execution_count": null,
   "metadata": {},
   "outputs": [],
   "source": []
  },
  {
   "cell_type": "markdown",
   "metadata": {},
   "source": [
    "Question 6: Add the following columns to sample_tweets.\n",
    "Create a new column called split that contains a list of the words in the tweet.\n",
    "\n",
    "Create a new column called caps that contains a list of the words in the tweet that are all-in-caps.\n",
    "\n",
    "For instance, HELLO.\n",
    "\n",
    "For tweets without any words that are all-in-caps, the entry should be NaN.\n",
    "\n",
    "Create a new column called hashtags that contains a list of the words in the tweet with a hashtag, the # symbol.\n",
    "\n",
    "For tweets without any hashtags, the entry should be NaN.\n",
    "\n",
    "Create a new column called mentions that contains a list of the words in the tweet that have mentions.\n",
    "\n",
    "Mentions begin with the @ symbol.\n",
    "\n",
    "For tweets without any mentions, the entry should be NaN.\n",
    "\n",
    "Create a new column called urls with a list of the Uniform Resource Locators (URLs) in the tweet.\n",
    "\n",
    "All URLS begin with the prefix http.\n",
    "\n",
    "For tweets without any URLs, the entry should be NaN.\n",
    "\n",
    "Create a new column called numbers that contains a list of the numbers, like 55, in the tweet.\n",
    "\n",
    "For tweets without any numbers, the entry should be NaN.\n",
    "\n",
    "Create a new column called lowercase that contains a list of the words in the original tweet in all lowercase.\n",
    "Note: You should use the pandas apply method along with lambda functions to create these lists."
   ]
  },
  {
   "cell_type": "code",
   "execution_count": 18,
   "metadata": {},
   "outputs": [],
   "source": [
    "sample_tweets['split']=sample_tweets['tweet'].apply(lambda x: x.split())"
   ]
  },
  {
   "cell_type": "code",
   "execution_count": 19,
   "metadata": {},
   "outputs": [
    {
     "data": {
      "text/plain": [
       "620722      NaN\n",
       "1586623    [PC]\n",
       "531250      NaN\n",
       "1173467     NaN\n",
       "1184690     NaN\n",
       "           ... \n",
       "683686      NaN\n",
       "1107570     NaN\n",
       "1511917     NaN\n",
       "316580      NaN\n",
       "846221      NaN\n",
       "Name: caps, Length: 16000, dtype: object"
      ]
     },
     "execution_count": 19,
     "metadata": {},
     "output_type": "execute_result"
    }
   ],
   "source": [
    "sample_tweets['caps']= sample_tweets.split.apply(lambda x: [i for i in x if i.isupper()])\n",
    "sample_tweets['caps'].apply(lambda x: x if not len(x)==0 else np.nan)"
   ]
  },
  {
   "cell_type": "code",
   "execution_count": 42,
   "metadata": {},
   "outputs": [
    {
     "data": {
      "text/plain": [
       "620722     NaN\n",
       "1586623    NaN\n",
       "531250     NaN\n",
       "1173467    NaN\n",
       "1184690    NaN\n",
       "          ... \n",
       "683686     NaN\n",
       "1107570    NaN\n",
       "1511917    NaN\n",
       "316580     NaN\n",
       "846221     NaN\n",
       "Name: hashtags, Length: 16000, dtype: object"
      ]
     },
     "execution_count": 42,
     "metadata": {},
     "output_type": "execute_result"
    }
   ],
   "source": [
    "sample_tweets['hashtags'] = sample_tweets['tweet'].apply(lambda x: re.findall(r\"#(\\w+)\", x))\n",
    "sample_tweets['hashtags'].apply(lambda x: x if not len(x)==0 else np.nan)"
   ]
  },
  {
   "cell_type": "code",
   "execution_count": 43,
   "metadata": {},
   "outputs": [
    {
     "data": {
      "text/plain": [
       "620722          [@AndrewThomas89]\n",
       "1586623             [@rudedoodle]\n",
       "531250     [@felicityfuller, @ms]\n",
       "1173467            [@thenewpsies]\n",
       "1184690            [@friplaylist]\n",
       "                    ...          \n",
       "683686                        NaN\n",
       "1107570                       NaN\n",
       "1511917                       NaN\n",
       "316580                        NaN\n",
       "846221                        NaN\n",
       "Name: mentions, Length: 16000, dtype: object"
      ]
     },
     "execution_count": 43,
     "metadata": {},
     "output_type": "execute_result"
    }
   ],
   "source": [
    "sample_tweets['mentions']=sample_tweets['tweet'].apply(lambda x: re.findall(r'@[A-Za-z0-9]+',x))\n",
    "\n",
    "sample_tweets['mentions'].apply(lambda x: x if not len(x)==0 else np.nan)"
   ]
  },
  {
   "cell_type": "code",
   "execution_count": 44,
   "metadata": {},
   "outputs": [
    {
     "data": {
      "text/plain": [
       "620722                                 NaN\n",
       "1586623                                NaN\n",
       "531250                                 NaN\n",
       "1173467    [http://justjared.buzznet.com/]\n",
       "1184690                                NaN\n",
       "                        ...               \n",
       "683686                                 NaN\n",
       "1107570                                NaN\n",
       "1511917                                NaN\n",
       "316580                                 NaN\n",
       "846221                                 NaN\n",
       "Name: urls, Length: 16000, dtype: object"
      ]
     },
     "execution_count": 44,
     "metadata": {},
     "output_type": "execute_result"
    }
   ],
   "source": [
    "sample_tweets['urls']=sample_tweets['tweet'].apply(lambda x: re.findall(r'https?://[A-Za-z0-9./]+',x))\n",
    "sample_tweets['urls'].apply(lambda x: x if not len(x)==0 else np.nan)"
   ]
  },
  {
   "cell_type": "code",
   "execution_count": 23,
   "metadata": {},
   "outputs": [],
   "source": [
    "sample_tweets['lowercase']= sample_tweets.split.apply(lambda x: [i for i in x if i.islower()])"
   ]
  },
  {
   "cell_type": "markdown",
   "metadata": {},
   "source": [
    "Question 7: Create a string of the stems of all of the words in the tweets. In linguistics, a stem is the part of a word responsible for its lexical meaning. Stemming is the act of taking a word and reducing it into its stem. For some words, its stem is a stand-alone word. For instance, the stem for the word writing is write. But a stem isn't always a stand-alone word. For example, the stem of the words study, studies, and studying is studi.\n",
    "\n",
    "The NLTK is a popular platform for building Python programs to work with human language data. It includes a Python package for stemming words. To use this package, your Jupyter notebook should include the following import statements:\n",
    "\n",
    "import nltk from nltk.stem import PorterStemmer\n",
    "\n",
    "To access the functionality of this package, you first have to create a new PorterStemmer object, like this:\n",
    "\n",
    "ps=PorterStemmer()\n",
    "\n",
    "Then, you can use the stem method of this object to find the stem of a given word. For instance, to find the stem for the word writing, you would use this code:\n",
    "\n",
    "ps.stem('writing')\n",
    "\n",
    "which should return the stem 'write'.\n",
    "\n",
    "Create a new column called stem.\n",
    "\n",
    "Using the lowercase list of words of each tweet, apply the stem method to each word and create a list of all of the stem words.\n",
    "\n",
    "Use a lambda function to access each row, and within the lambda function, use a loop to find the stem of each word.\n",
    "\n",
    "Combine of the list of stems into a single string and store in the stem column.\n",
    "\n",
    "Use the join method in the string class to create a single string.\n",
    "\n",
    "Each word should be separated by a single space."
   ]
  },
  {
   "cell_type": "code",
   "execution_count": 34,
   "metadata": {},
   "outputs": [],
   "source": [
    "from nltk.stem.porter import *\n",
    "ps = PorterStemmer()\n",
    "\n",
    "sample_tweets['stem'] = sample_tweets['tweet'].apply(lambda x: [ps.stem(i) for i in x])\n",
    "for i in range(len(stem)):\n",
    "    stem[i] = ''.join(stem[i])"
   ]
  },
  {
   "cell_type": "code",
   "execution_count": null,
   "metadata": {},
   "outputs": [],
   "source": []
  },
  {
   "cell_type": "markdown",
   "metadata": {},
   "source": [
    "Question 8: Save sample_tweets to a file. Dump your dataframe to a file called hw04.csv"
   ]
  },
  {
   "cell_type": "code",
   "execution_count": 46,
   "metadata": {},
   "outputs": [],
   "source": [
    "sample_tweets.to_csv('hw04.csv',encoding='utf-8')"
   ]
  },
  {
   "cell_type": "code",
   "execution_count": null,
   "metadata": {},
   "outputs": [],
   "source": []
  }
 ],
 "metadata": {
  "kernelspec": {
   "display_name": "Python 3",
   "language": "python",
   "name": "python3"
  },
  "language_info": {
   "codemirror_mode": {
    "name": "ipython",
    "version": 3
   },
   "file_extension": ".py",
   "mimetype": "text/x-python",
   "name": "python",
   "nbconvert_exporter": "python",
   "pygments_lexer": "ipython3",
   "version": "3.7.4"
  }
 },
 "nbformat": 4,
 "nbformat_minor": 2
}
